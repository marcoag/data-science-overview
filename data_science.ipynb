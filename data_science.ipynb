{
 "cells": [
  {
   "cell_type": "markdown",
   "metadata": {
    "slideshow": {
     "slide_type": "slide"
    }
   },
   "source": [
    "<center><h1> Data Science </h1>\n",
    "<center><img src=\"images/data_science.png\" alt=\"Data Science\"></center>\n",
    "<h4> marco@upcodeacademy.com </h4>\n"
   ]
  },
  {
   "cell_type": "markdown",
   "metadata": {
    "slideshow": {
     "slide_type": "slide"
    }
   },
   "source": [
    "<h1><center>What's Data Science?</center></h1>"
   ]
  },
  {
   "cell_type": "markdown",
   "metadata": {
    "slideshow": {
     "slide_type": "subslide"
    }
   },
   "source": [
    "## Data science is an interdisciplinary field that uses scientific methods, processes, algorithms and systems to extract knowledge and insights from data in various forms.\n",
    "\n",
    "## Unifies statistics, data analysis, machine learning and their related methods\" in order to \"understand and analyze actual phenomena\" with data."
   ]
  },
  {
   "cell_type": "markdown",
   "metadata": {
    "slideshow": {
     "slide_type": "subslide"
    }
   },
   "source": [
    "# Data is the key... really?\n",
    "\n",
    "## &nbsp; &nbsp; &nbsp; &nbsp; - Volume\n",
    "## &nbsp; &nbsp; &nbsp; &nbsp; - Speed\n",
    "## &nbsp; &nbsp; &nbsp; &nbsp; - Buzzwords: Hadoop, EC2, Pig\n",
    "## &nbsp; &nbsp; &nbsp; &nbsp; - Python or R"
   ]
  },
  {
   "cell_type": "markdown",
   "metadata": {
    "slideshow": {
     "slide_type": "subslide"
    }
   },
   "source": [
    "# Sicence is the key!!\n",
    "\n",
    "### &nbsp; &nbsp; &nbsp; &nbsp; - DS useful when answers a question\n",
    "### &nbsp; &nbsp; &nbsp; &nbsp; - Science is part of the equation\n",
    "### &nbsp; &nbsp; &nbsp; &nbsp; - Harder View of DS than only focusing on Data"
   ]
  },
  {
   "cell_type": "markdown",
   "metadata": {
    "slideshow": {
     "slide_type": "subslide"
    }
   },
   "source": [
    "# Sicence is the key!!\n",
    "\n",
    "### &nbsp; &nbsp; &nbsp; &nbsp; - Question -> Data -> Answer\n",
    "### &nbsp; &nbsp; &nbsp; &nbsp; - Need to understand if correlations matter for the question"
   ]
  },
  {
   "cell_type": "markdown",
   "metadata": {
    "slideshow": {
     "slide_type": "slide"
    }
   },
   "source": [
    "<h1><center>Why Data Science?</center></h1>"
   ]
  },
  {
   "cell_type": "markdown",
   "metadata": {
    "slideshow": {
     "slide_type": "subslide"
    }
   },
   "source": [
    "<center>\n",
    "    <h1>Data Science helps you answer questions with data</h1>\n",
    "<br>\n",
    "<img src=\"images/chuck.gif\" alt=\"Chuck aproves\"></center>"
   ]
  },
  {
   "cell_type": "markdown",
   "metadata": {
    "slideshow": {
     "slide_type": "subslide"
    }
   },
   "source": [
    "<center><img src=\"images/Moneyball_Poster.jpg\" alt=\"Moneyball\"></center>"
   ]
  },
  {
   "cell_type": "markdown",
   "metadata": {
    "slideshow": {
     "slide_type": "subslide"
    }
   },
   "source": [
    "<center><img src=\"images/obama.jpg\" alt=\"Obama\"></center>"
   ]
  },
  {
   "cell_type": "markdown",
   "metadata": {
    "slideshow": {
     "slide_type": "subslide"
    }
   },
   "source": [
    "<center><img src=\"images/netflix_prize.jpg\" alt=\"Netflix Prize\"></center>"
   ]
  },
  {
   "cell_type": "markdown",
   "metadata": {
    "slideshow": {
     "slide_type": "slide"
    }
   },
   "source": [
    "<center><img src=\"images/superhero.jpg\" alt=\"DS saves lives\">\n",
    "\n",
    "<h2> Data Science saves lives! <h2>"
   ]
  },
  {
   "cell_type": "markdown",
   "metadata": {
    "slideshow": {
     "slide_type": "subslide"
    }
   },
   "source": [
    "## - Intelligent staffing\n",
    "## - Real time alerting\n",
    "## - Preventing opioid abuse\n",
    "## - Fighting cancer\n",
    "## - Telemedicine\n",
    "\n",
    "<h4><div align=\"right\">healthworkscollective.com</div></h4>"
   ]
  },
  {
   "cell_type": "markdown",
   "metadata": {
    "slideshow": {
     "slide_type": "subslide"
    }
   },
   "source": [
    "<center><img src=\"images/sexy_job.jpg\" alt=\"Sexy job\"></center>"
   ]
  },
  {
   "cell_type": "markdown",
   "metadata": {
    "slideshow": {
     "slide_type": "subslide"
    }
   },
   "source": [
    "# Data Science Engineer: \n",
    "\n",
    "### Forbes: \n",
    "#### &nbsp; &nbsp; &nbsp; &nbsp; - One of the 6 most demanded jobs in 2018\n",
    "#### &nbsp; &nbsp; &nbsp; &nbsp; - IBM Predicts Demand For Data Scientists Will Soar 28% By 2020"
   ]
  },
  {
   "cell_type": "markdown",
   "metadata": {
    "slideshow": {
     "slide_type": "subslide"
    }
   },
   "source": [
    "### Glassdoor: \n",
    "#### &nbsp; &nbsp; &nbsp; &nbsp; -  Best job in US\n",
    "#### &nbsp; &nbsp; &nbsp; &nbsp; -  4.8/5 job score\n",
    "#### &nbsp; &nbsp; &nbsp; &nbsp; -  4.2/5 job satisfaction\n",
    "#### &nbsp; &nbsp; &nbsp; &nbsp; -  110,000 USD median salary\n",
    "#### &nbsp; &nbsp; &nbsp; &nbsp; -  4,524 job openings"
   ]
  },
  {
   "cell_type": "code",
   "execution_count": 16,
   "metadata": {
    "slideshow": {
     "slide_type": "slide"
    }
   },
   "outputs": [
    {
     "name": "stdout",
     "output_type": "stream",
     "text": [
      "Train on 25000 samples, validate on 25000 samples\n",
      "Epoch 1/3\n",
      "25000/25000 [==============================] - 6s 224us/step - loss: 0.4886 - acc: 0.7569 - val_loss: 0.3044 - val_acc: 0.8742\n",
      "Epoch 2/3\n",
      "25000/25000 [==============================] - 4s 162us/step - loss: 0.2419 - acc: 0.9062 - val_loss: 0.2855 - val_acc: 0.8801\n",
      "Epoch 3/3\n",
      "25000/25000 [==============================] - 4s 160us/step - loss: 0.1731 - acc: 0.9384 - val_loss: 0.2767 - val_acc: 0.8840\n"
     ]
    },
    {
     "data": {
      "text/plain": [
       "<keras.callbacks.History at 0x7f93bc369320>"
      ]
     },
     "execution_count": 16,
     "metadata": {},
     "output_type": "execute_result"
    }
   ],
   "source": [
    "import keras\n",
    "from numpy import array\n",
    "\n",
    "(X_train, y_train), (X_test, y_test) = keras.datasets.imdb.load_data(num_words=5000)\n",
    "word_to_id = keras.datasets.imdb.get_word_index()\n",
    "word_to_id = {k:(v+3) for k,v in word_to_id.items()}\n",
    "X_train = keras.preprocessing.sequence.pad_sequences(X_train, maxlen=500) \n",
    "X_test = keras.preprocessing.sequence.pad_sequences(X_test, maxlen=500) \n",
    "model = keras.models.Sequential() \n",
    "model.add(keras.layers.Embedding(5000, 32, input_length=500)) \n",
    "model.add(keras.layers.Flatten()) \n",
    "model.add(keras.layers.Dense(1, activation='sigmoid')) \n",
    "model.compile(loss='binary_crossentropy',optimizer='adam', metrics=['accuracy']) \n",
    "model.fit(X_train, y_train, validation_data=(X_test, y_test), epochs=3, batch_size=64)"
   ]
  },
  {
   "cell_type": "code",
   "execution_count": 17,
   "metadata": {
    "slideshow": {
     "slide_type": "slide"
    }
   },
   "outputs": [
    {
     "name": "stdout",
     "output_type": "stream",
     "text": [
      "Accuracy: 88.40%\n"
     ]
    }
   ],
   "source": [
    "scores = model.evaluate(X_test, y_test, verbose=0) \n",
    "print(\"Accuracy: %.2f%%\" % (scores[1]*100))"
   ]
  },
  {
   "cell_type": "code",
   "execution_count": null,
   "metadata": {
    "slideshow": {
     "slide_type": "slide"
    }
   },
   "outputs": [],
   "source": [
    "sentence = input()\n",
    "tmp = []\n",
    "for word in sentence.split(\" \"):\n",
    "    tmp.append(word_to_id[word])\n",
    "tmp_padded = keras.preprocessing.sequence.pad_sequences([tmp], maxlen=500) \n",
    "prediction = model.predict(array([tmp_padded][0]))[0][0]\n",
    "print('Sentiment: %s %s' % (prediction, u\"\\U0001F44D\" if prediction > 0.5 else u\"\\U0001F44E\"))"
   ]
  },
  {
   "cell_type": "markdown",
   "metadata": {
    "slideshow": {
     "slide_type": "slide"
    }
   },
   "source": [
    "<h1><center>But... How?</center></h1>\n",
    "<center><img src=\"images/wtf.jpg\" alt=\"wtf\"></center>"
   ]
  },
  {
   "cell_type": "markdown",
   "metadata": {
    "slideshow": {
     "slide_type": "subslide"
    }
   },
   "source": [
    "<h1><center>Learn the ways of Data Science you must...</center></h1>\n",
    "\n",
    "<center><img src=\"images/yoda.png\" alt=\"yoda\"></center>"
   ]
  },
  {
   "cell_type": "markdown",
   "metadata": {
    "slideshow": {
     "slide_type": "slide"
    }
   },
   "source": [
    "<h1><center>A Full Data Science Courses Track!</center></h1>\n",
    "<br>\n",
    "<center><img src=\"images/omg.gif\" alt=\"OMG!\"></center>"
   ]
  },
  {
   "cell_type": "markdown",
   "metadata": {
    "slideshow": {
     "slide_type": "subslide"
    }
   },
   "source": [
    "<center><img src=\"images/data_science_courses.png\" alt=\"Data Science Courses\"></center>"
   ]
  },
  {
   "cell_type": "markdown",
   "metadata": {
    "slideshow": {
     "slide_type": "slide"
    }
   },
   "source": [
    "<center><img src=\"images/ndsc.png\" alt=\"National Data Science Challenge\"></center>"
   ]
  },
  {
   "cell_type": "markdown",
   "metadata": {
    "slideshow": {
     "slide_type": "subslide"
    }
   },
   "source": [
    "<center><img src=\"images/ndsc_prizes.png\" alt=\"National Data Science Challenge\"></center>"
   ]
  },
  {
   "cell_type": "markdown",
   "metadata": {
    "slideshow": {
     "slide_type": "subslide"
    }
   },
   "source": [
    "<center><img src=\"images/ndsc_categories.png\" alt=\"National Data Science Challenge\"></center>"
   ]
  },
  {
   "cell_type": "markdown",
   "metadata": {
    "slideshow": {
     "slide_type": "slide"
    }
   },
   "source": [
    "<center><h1> Thanks! </h1>\n",
    "<h4> Marco A. Gutiérrez </h4>\n",
    "<h4> marco@upcodeacademy.com </h4>\n",
    "<img src=\"images/banner.png\" alt=\"upcode banner\"></center>"
   ]
  }
 ],
 "metadata": {
  "celltoolbar": "Slideshow",
  "kernelspec": {
   "display_name": "Python 3",
   "language": "python",
   "name": "python3"
  },
  "language_info": {
   "codemirror_mode": {
    "name": "ipython",
    "version": 3
   },
   "file_extension": ".py",
   "mimetype": "text/x-python",
   "name": "python",
   "nbconvert_exporter": "python",
   "pygments_lexer": "ipython3",
   "version": "3.6.5"
  },
  "livereveal": {
   "autolaunch": true
  },
  "rise": {
   "theme": "sky"
  },
  "toc": {
   "base_numbering": 1,
   "nav_menu": {},
   "number_sections": false,
   "sideBar": true,
   "skip_h1_title": false,
   "title_cell": "Table of Contents",
   "title_sidebar": "Contents",
   "toc_cell": false,
   "toc_position": {},
   "toc_section_display": true,
   "toc_window_display": false
  }
 },
 "nbformat": 4,
 "nbformat_minor": 2
}
